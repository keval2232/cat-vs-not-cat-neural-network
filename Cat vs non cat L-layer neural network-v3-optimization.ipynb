{
 "cells": [
  {
   "cell_type": "markdown",
   "id": "dominant-excellence",
   "metadata": {},
   "source": [
    "<a name='1'></a>\n",
    "## 1 - Packages"
   ]
  },
  {
   "cell_type": "markdown",
   "id": "chief-steel",
   "metadata": {},
   "source": [
    "Begin by importing all the packages you'll need during this assignment. \n",
    "\n",
    "- [numpy](https://www.numpy.org/) is the fundamental package for scientific computing with Python.\n",
    "- [matplotlib](http://matplotlib.org) is a library to plot graphs in Python.\n",
    "- [h5py](http://www.h5py.org) is a common package to interact with a dataset that is stored on an H5 file.\n",
    "- [PIL](http://www.pythonware.com/products/pil/) and [scipy](https://www.scipy.org/) are used here to test your model with your own picture at the end.\n",
    "- `dnn_app_utils` provides the functions implemented in the \"Building your Deep Neural Network: Step by Step\" assignment to this notebook.\n",
    "- `np.random.seed(1)` is used to keep all the random function calls consistent. It helps grade your work - so please don't change it! "
   ]
  },
  {
   "cell_type": "code",
   "execution_count": 10,
   "id": "desirable-wealth",
   "metadata": {},
   "outputs": [
    {
     "name": "stdout",
     "output_type": "stream",
     "text": [
      "The autoreload extension is already loaded. To reload it, use:\n",
      "  %reload_ext autoreload\n"
     ]
    }
   ],
   "source": [
    "import time\n",
    "import numpy as np\n",
    "import h5py\n",
    "import matplotlib.pyplot as plt\n",
    "import scipy\n",
    "from PIL import Image\n",
    "from scipy import ndimage\n",
    "from keval_nn import *\n",
    "%matplotlib inline\n",
    "plt.rcParams['figure.figsize'] = (5.0, 4.0) # set default size of plots\n",
    "plt.rcParams['image.interpolation'] = 'nearest'\n",
    "plt.rcParams['image.cmap'] = 'gray'\n",
    "\n",
    "%load_ext autoreload\n",
    "%autoreload 2\n",
    "\n",
    "np.random.seed(1)"
   ]
  },
  {
   "cell_type": "markdown",
   "id": "broad-front",
   "metadata": {},
   "source": [
    "<h3> 3.1 data loading </h3>"
   ]
  },
  {
   "cell_type": "code",
   "execution_count": 11,
   "id": "retained-george",
   "metadata": {},
   "outputs": [],
   "source": [
    "train_x_orig, train_y, test_x_orig, test_y, classes = load_data()"
   ]
  },
  {
   "cell_type": "code",
   "execution_count": 12,
   "id": "analyzed-construction",
   "metadata": {},
   "outputs": [
    {
     "name": "stdout",
     "output_type": "stream",
     "text": [
      "y = 0. It's a non-cat picture.\n"
     ]
    },
    {
     "data": {
      "image/png": "[encoded data removed]",
      "text/plain": [
       "<Figure size 360x288 with 1 Axes>"
      ]
     },
     "metadata": {
      "needs_background": "light"
     },
     "output_type": "display_data"
    }
   ],
   "source": [
    " #Example of a data\n",
    "index = 10\n",
    "plt.imshow(train_x_orig[index])\n",
    "print (\"y = \" + str(train_y[0,index]) + \". It's a \" + classes[train_y[0,index]].decode(\"utf-8\") +  \" picture.\")"
   ]
  },
  {
   "cell_type": "code",
   "execution_count": 13,
   "id": "downtown-action",
   "metadata": {},
   "outputs": [
    {
     "name": "stdout",
     "output_type": "stream",
     "text": [
      "Number of training examples: 209\n",
      "Number of testing examples: 50\n",
      "Each image is of size: (64, 64, 3)\n",
      "train_x_orig shape: (209, 64, 64, 3)\n",
      "train_y shape: (1, 209)\n",
      "test_x_orig shape: (50, 64, 64, 3)\n",
      "test_y shape: (1, 50)\n"
     ]
    }
   ],
   "source": [
    "# Explore your dataset \n",
    "m_train = train_x_orig.shape[0]\n",
    "num_px = train_x_orig.shape[1]\n",
    "m_test = test_x_orig.shape[0]\n",
    "\n",
    "print (\"Number of training examples: \" + str(m_train))\n",
    "print (\"Number of testing examples: \" + str(m_test))\n",
    "print (\"Each image is of size: (\" + str(num_px) + \", \" + str(num_px) + \", 3)\")\n",
    "print (\"train_x_orig shape: \" + str(train_x_orig.shape))\n",
    "print (\"train_y shape: \" + str(train_y.shape))\n",
    "print (\"test_x_orig shape: \" + str(test_x_orig.shape))\n",
    "print (\"test_y shape: \" + str(test_y.shape))"
   ]
  },
  {
   "cell_type": "markdown",
   "id": "rising-college",
   "metadata": {},
   "source": [
    "As usual, you reshape and standardize the images before feeding them to the network. The code is given in the cell below.\n",
    "\n",
    "<img src=\"imvectorkiank.png\" style=\"width:450px;height:300px;\">\n",
    "<caption><center><font color='purple'><b>Figure 1</b>: Image to vector conversion.</font></center></caption>"
   ]
  },
  {
   "cell_type": "code",
   "execution_count": 14,
   "id": "complex-palace",
   "metadata": {},
   "outputs": [
    {
     "name": "stdout",
     "output_type": "stream",
     "text": [
      "train_x's shape: (12288, 209)\n",
      "test_x's shape: (12288, 50)\n"
     ]
    }
   ],
   "source": [
    "train_x_flatten = train_x_orig.reshape(train_x_orig.shape[0], -1).T \n",
    "test_x_flatten = test_x_orig.reshape(test_x_orig.shape[0], -1).T\n",
    "train_x = train_x_flatten/255.\n",
    "test_x = test_x_flatten/255.\n",
    "\n",
    "\n",
    "print (\"train_x's shape: \" + str(train_x.shape))\n",
    "print (\"test_x's shape: \" + str(test_x.shape))"
   ]
  },
  {
   "cell_type": "markdown",
   "id": "satisfactory-bulgarian",
   "metadata": {},
   "source": [
    "Now that you're familiar with the dataset, it's time to build a deep neural network to distinguish cat images from non-cat images!\n",
    "\n",
    "You're going to build two different models:\n",
    "\n",
    "- A 2-layer neural network\n",
    "- An L-layer deep neural network\n",
    "\n",
    "Then, you'll compare the performance of these models, and try out some different values for $L$. \n",
    "\n",
    "Let's look at the two architectures:\n",
    "\n",
    "<img src=\"images/2layerNN_kiank.png\" style=\"width:650px;height:400px;\">\n",
    "<caption><center><font color='purple'><b>Figure 2</b>: 2-layer neural network. <br> The model can be summarized as: INPUT -> LINEAR -> RELU -> LINEAR -> SIGMOID -> OUTPUT.</font></center></caption>\n",
    "\n",
    "<u><b>Detailed Architecture of Figure 2</b></u>:\n",
    "- The input is a (64,64,3) image which is flattened to a vector of size $(12288,1)$. \n",
    "- The corresponding vector: $[x_0,x_1,...,x_{12287}]^T$ is then multiplied by the weight matrix $W^{[1]}$ of size $(n^{[1]}, 12288)$.\n",
    "- Then, add a bias term and take its relu to get the following vector: $[a_0^{[1]}, a_1^{[1]},..., a_{n^{[1]}-1}^{[1]}]^T$.\n",
    "- Repeat the same process.\n",
    "- Multiply the resulting vector by $W^{[2]}$ and add the intercept (bias). \n",
    "- Finally, take the sigmoid of the result. If it's greater than 0.5, classify it as a cat."
   ]
  },
  {
   "cell_type": "markdown",
   "id": "romance-audit",
   "metadata": {},
   "source": [
    "<h1><font color='red'>Without regulization </font></h1>"
   ]
  },
  {
   "cell_type": "markdown",
   "id": "dramatic-information",
   "metadata": {},
   "source": [
    "# L-layer model ramdom initizlization"
   ]
  },
  {
   "cell_type": "code",
   "execution_count": 15,
   "id": "rental-lodging",
   "metadata": {},
   "outputs": [],
   "source": [
    "layers_dims = [12288, 20, 7, 5, 3,1]"
   ]
  },
  {
   "cell_type": "code",
   "execution_count": 16,
   "id": "crucial-discussion",
   "metadata": {},
   "outputs": [],
   "source": [
    "def L_layer_model(X, Y, layers_dims, learning_rate = 0.01, num_iterations = 3000, print_cost=False):\n",
    "    np.random.seed(1)\n",
    "    costs = []  \n",
    "    parameters = initialize_parameters_deep(layers_dims)\n",
    "    for i in range(0, num_iterations):\n",
    "        AL, caches = L_model_forward(X, parameters)\n",
    "        cost = compute_cost(AL, Y)\n",
    "        grads = L_model_backward(AL, Y, caches)\n",
    "        parameters = update_parameters(parameters, grads, learning_rate)\n",
    "        if print_cost and i % 100 == 0:\n",
    "            print (\"Cost after iteration %i: %.4f\" %(i, cost))\n",
    "        if print_cost and i % 100 == 0:\n",
    "            costs.append(cost)\n",
    "            \n",
    "    # plot the cost\n",
    "    plt.plot(np.squeeze(costs))\n",
    "    plt.ylabel('cost')\n",
    "    plt.xlabel('iterations (per tens)')\n",
    "    plt.title(\"Learning rate =\" + str(learning_rate))\n",
    "    plt.show()\n",
    "    \n",
    "    return parameters"
   ]
  },
  {
   "cell_type": "code",
   "execution_count": 17,
   "id": "hungarian-release",
   "metadata": {},
   "outputs": [
    {
     "name": "stdout",
     "output_type": "stream",
     "text": [
      "Cost after iteration 0: 0.7100\n",
      "Cost after iteration 100: 0.6729\n",
      "Cost after iteration 200: 0.6597\n",
      "Cost after iteration 300: 0.6507\n",
      "Cost after iteration 400: 0.6421\n",
      "Cost after iteration 500: 0.6296\n",
      "Cost after iteration 600: 0.6037\n",
      "Cost after iteration 700: 0.5522\n",
      "Cost after iteration 800: 0.4766\n",
      "Cost after iteration 900: 0.4121\n",
      "Cost after iteration 1000: 0.3688\n",
      "Cost after iteration 1100: 0.3037\n",
      "Cost after iteration 1200: 0.3162\n",
      "Cost after iteration 1300: 0.2438\n",
      "Cost after iteration 1400: 0.2123\n",
      "Cost after iteration 1500: 0.1618\n",
      "Cost after iteration 1600: 0.1466\n",
      "Cost after iteration 1700: 0.1352\n",
      "Cost after iteration 1800: 0.1266\n",
      "Cost after iteration 1900: 0.1187\n",
      "Cost after iteration 2000: 0.1118\n",
      "Cost after iteration 2100: 0.1070\n",
      "Cost after iteration 2200: 0.1013\n",
      "Cost after iteration 2300: 0.0973\n",
      "Cost after iteration 2400: 0.0934\n",
      "Cost after iteration 2500: 0.0902\n",
      "Cost after iteration 2600: 0.0872\n",
      "Cost after iteration 2700: 0.0850\n",
      "Cost after iteration 2800: 0.0827\n",
      "Cost after iteration 2900: 0.0802\n",
      "Cost after iteration 3000: 0.0785\n",
      "Cost after iteration 3100: 0.0766\n",
      "Cost after iteration 3200: 0.0749\n",
      "Cost after iteration 3300: 0.0734\n",
      "Cost after iteration 3400: 0.0722\n",
      "Cost after iteration 3500: 0.0709\n",
      "Cost after iteration 3600: 0.0703\n",
      "Cost after iteration 3700: 0.0690\n",
      "Cost after iteration 3800: 0.0678\n",
      "Cost after iteration 3900: 0.0669\n",
      "Cost after iteration 4000: 0.0661\n",
      "Cost after iteration 4100: 0.0652\n",
      "Cost after iteration 4200: 0.0649\n",
      "Cost after iteration 4300: 0.0638\n",
      "Cost after iteration 4400: 0.0632\n",
      "Cost after iteration 4500: 0.0625\n",
      "Cost after iteration 4600: 0.0620\n",
      "Cost after iteration 4700: 0.0615\n",
      "Cost after iteration 4800: 0.0610\n",
      "Cost after iteration 4900: 0.0605\n",
      "Cost after iteration 5000: 0.0602\n",
      "Cost after iteration 5100: 0.0597\n",
      "Cost after iteration 5200: 0.0593\n",
      "Cost after iteration 5300: 0.0589\n",
      "Cost after iteration 5400: 0.0590\n",
      "Cost after iteration 5500: 0.0583\n",
      "Cost after iteration 5600: 0.0580\n",
      "Cost after iteration 5700: 0.0576\n",
      "Cost after iteration 5800: 0.0573\n",
      "Cost after iteration 5900: 0.0570\n",
      "Cost after iteration 6000: 0.0568\n",
      "Cost after iteration 6100: 0.0566\n",
      "Cost after iteration 6200: 0.0563\n",
      "Cost after iteration 6300: 0.0560\n",
      "Cost after iteration 6400: 0.0558\n",
      "Cost after iteration 6500: 0.0557\n",
      "Cost after iteration 6600: 0.0554\n",
      "Cost after iteration 6700: 0.0552\n",
      "Cost after iteration 6800: 0.0550\n",
      "Cost after iteration 6900: 0.0548\n",
      "Cost after iteration 7000: 0.0548\n",
      "Cost after iteration 7100: 0.0546\n",
      "Cost after iteration 7200: 0.0544\n",
      "Cost after iteration 7300: 0.0542\n",
      "Cost after iteration 7400: 0.0542\n",
      "Cost after iteration 7500: 0.0540\n",
      "Cost after iteration 7600: 0.0538\n",
      "Cost after iteration 7700: 0.0538\n",
      "Cost after iteration 7800: 0.0536\n",
      "Cost after iteration 7900: 0.0535\n",
      "Cost after iteration 8000: 0.0534\n",
      "Cost after iteration 8100: 0.0534\n",
      "Cost after iteration 8200: 0.0531\n",
      "Cost after iteration 8300: 0.0531\n",
      "Cost after iteration 8400: 0.0530\n",
      "Cost after iteration 8500: 0.0529\n",
      "Cost after iteration 8600: 0.0529\n",
      "Cost after iteration 8700: 0.0529\n",
      "Cost after iteration 8800: 0.0526\n",
      "Cost after iteration 8900: 0.0526\n",
      "Cost after iteration 9000: 0.0525\n",
      "Cost after iteration 9100: 0.0524\n",
      "Cost after iteration 9200: 0.0523\n",
      "Cost after iteration 9300: 0.0523\n",
      "Cost after iteration 9400: 0.0522\n",
      "Cost after iteration 9500: 0.0521\n",
      "Cost after iteration 9600: 0.0521\n",
      "Cost after iteration 9700: 0.0521\n",
      "Cost after iteration 9800: 0.0520\n",
      "Cost after iteration 9900: 0.0519\n"
     ]
    },
    {
     "data": {
      "image/png": "[encoded data removed]",
      "text/plain": [
       "<Figure size 360x288 with 1 Axes>"
      ]
     },
     "metadata": {
      "needs_background": "light"
     },
     "output_type": "display_data"
    }
   ],
   "source": [
    "parameters = L_layer_model(train_x, train_y, layers_dims, num_iterations = 10000, print_cost = True)"
   ]
  },
  {
   "cell_type": "code",
   "execution_count": 18,
   "id": "ignored-pierre",
   "metadata": {},
   "outputs": [
    {
     "name": "stdout",
     "output_type": "stream",
     "text": [
      "Accuracy:0.99 \n"
     ]
    }
   ],
   "source": [
    "pred_train = predict(train_x, train_y, parameters)"
   ]
  },
  {
   "cell_type": "code",
   "execution_count": 19,
   "id": "built-stick",
   "metadata": {},
   "outputs": [
    {
     "name": "stdout",
     "output_type": "stream",
     "text": [
      "Accuracy:0.82 \n"
     ]
    }
   ],
   "source": [
    "pred_test = predict(test_x, test_y, parameters)"
   ]
  },
  {
   "cell_type": "markdown",
   "id": "focal-place",
   "metadata": {},
   "source": [
    "<h1><font color='red'>With regulization </font></h1>"
   ]
  },
  {
   "cell_type": "markdown",
   "id": "ongoing-leather",
   "metadata": {},
   "source": [
    "# L-layer model ramdom initizlization"
   ]
  },
  {
   "cell_type": "code",
   "execution_count": 24,
   "id": "interim-lindsay",
   "metadata": {},
   "outputs": [],
   "source": [
    "def L_layer_model(X, Y, layers_dims, learning_rate = 0.01, num_iterations = 3500, print_cost=False,lambd=0.7):\n",
    "    np.random.seed(1)\n",
    "    costs = []  \n",
    "    parameters = initialize_parameters_deep(layers_dims)\n",
    "    for i in range(0, num_iterations):\n",
    "        AL, caches = L_model_forward(X, parameters)\n",
    "        if lambd==0:\n",
    "           cost = compute_cost(AL, Y)\n",
    "        else:\n",
    "            cost = compute_cost_with_regularization(AL, Y, parameters, lambd)\n",
    "        grads = L_model_backward(AL, Y, caches)\n",
    "        parameters = update_parameters(parameters, grads, learning_rate)\n",
    "        if print_cost and i % 100 == 0:\n",
    "            print (\"Cost after iteration %i: %f\" %(i, cost))\n",
    "        if print_cost and i % 100 == 0:\n",
    "            costs.append(cost)\n",
    "            \n",
    "    # plot the cost\n",
    "    plt.plot(np.squeeze(costs))\n",
    "    plt.ylabel('cost')\n",
    "    plt.xlabel('iterations (per tens)')\n",
    "    plt.title(\"Learning rate =\" + str(learning_rate))\n",
    "    plt.show()\n",
    "    \n",
    "    return parameters"
   ]
  },
  {
   "cell_type": "code",
   "execution_count": null,
   "id": "square-portugal",
   "metadata": {},
   "outputs": [],
   "source": []
  },
  {
   "cell_type": "code",
   "execution_count": 29,
   "id": "raising-score",
   "metadata": {},
   "outputs": [
    {
     "name": "stdout",
     "output_type": "stream",
     "text": [
      "Cost after iteration 0: 0.769522\n",
      "Cost after iteration 100: 0.732452\n",
      "Cost after iteration 200: 0.719291\n",
      "Cost after iteration 300: 0.710306\n",
      "Cost after iteration 400: 0.701779\n",
      "Cost after iteration 500: 0.689355\n",
      "Cost after iteration 600: 0.663712\n",
      "Cost after iteration 700: 0.612799\n",
      "Cost after iteration 800: 0.537948\n",
      "Cost after iteration 900: 0.474384\n",
      "Cost after iteration 1000: 0.431990\n",
      "Cost after iteration 1100: 0.367727\n",
      "Cost after iteration 1200: 0.380947\n",
      "Cost after iteration 1300: 0.309163\n",
      "Cost after iteration 1400: 0.278064\n",
      "Cost after iteration 1500: 0.227935\n",
      "Cost after iteration 1600: 0.213056\n",
      "Cost after iteration 1700: 0.201767\n",
      "Cost after iteration 1800: 0.193392\n",
      "Cost after iteration 1900: 0.185592\n",
      "Cost after iteration 2000: 0.178858\n",
      "Cost after iteration 2100: 0.174141\n",
      "Cost after iteration 2200: 0.168589\n",
      "Cost after iteration 2300: 0.164679\n",
      "Cost after iteration 2400: 0.160792\n",
      "Cost after iteration 2500: 0.157672\n",
      "Cost after iteration 2600: 0.154769\n",
      "Cost after iteration 2700: 0.152688\n",
      "Cost after iteration 2800: 0.150398\n",
      "Cost after iteration 2900: 0.148018\n",
      "Cost after iteration 3000: 0.146316\n",
      "Cost after iteration 3100: 0.144523\n",
      "Cost after iteration 3200: 0.142824\n",
      "Cost after iteration 3300: 0.141427\n",
      "Cost after iteration 3400: 0.140228\n",
      "Cost after iteration 3500: 0.139002\n",
      "Cost after iteration 3600: 0.138377\n",
      "Cost after iteration 3700: 0.137105\n",
      "Cost after iteration 3800: 0.135972\n",
      "Cost after iteration 3900: 0.135095\n",
      "Cost after iteration 4000: 0.134400\n",
      "Cost after iteration 4100: 0.133472\n",
      "Cost after iteration 4200: 0.133190\n",
      "Cost after iteration 4300: 0.132180\n",
      "Cost after iteration 4400: 0.131543\n",
      "Cost after iteration 4500: 0.130971\n",
      "Cost after iteration 4600: 0.130420\n",
      "Cost after iteration 4700: 0.129938\n",
      "Cost after iteration 4800: 0.129503\n",
      "Cost after iteration 4900: 0.129026\n",
      "Cost after iteration 5000: 0.128732\n",
      "Cost after iteration 5100: 0.128244\n",
      "Cost after iteration 5200: 0.127881\n",
      "Cost after iteration 5300: 0.127533\n",
      "Cost after iteration 5400: 0.127612\n",
      "Cost after iteration 5500: 0.126936\n",
      "Cost after iteration 5600: 0.126705\n",
      "Cost after iteration 5700: 0.126351\n",
      "Cost after iteration 5800: 0.126018\n",
      "Cost after iteration 5900: 0.125761\n",
      "Cost after iteration 6000: 0.125549\n",
      "Cost after iteration 6100: 0.125401\n",
      "Cost after iteration 6200: 0.125100\n",
      "Cost after iteration 6300: 0.124879\n",
      "Cost after iteration 6400: 0.124697\n",
      "Cost after iteration 6500: 0.124554\n",
      "Cost after iteration 6600: 0.124273\n",
      "Cost after iteration 6700: 0.124132\n",
      "Cost after iteration 6800: 0.123955\n",
      "Cost after iteration 6900: 0.123783\n",
      "Cost after iteration 7000: 0.123769\n",
      "Cost after iteration 7100: 0.123577\n",
      "Cost after iteration 7200: 0.123366\n",
      "Cost after iteration 7300: 0.123242\n",
      "Cost after iteration 7400: 0.123176\n",
      "Cost after iteration 7500: 0.123031\n",
      "Cost after iteration 7600: 0.122889\n",
      "Cost after iteration 7700: 0.122845\n",
      "Cost after iteration 7800: 0.122637\n",
      "Cost after iteration 7900: 0.122580\n",
      "Cost after iteration 8000: 0.122468\n",
      "Cost after iteration 8100: 0.122484\n",
      "Cost after iteration 8200: 0.122276\n",
      "Cost after iteration 8300: 0.122225\n",
      "Cost after iteration 8400: 0.122181\n",
      "Cost after iteration 8500: 0.122090\n",
      "Cost after iteration 8600: 0.122069\n",
      "Cost after iteration 8700: 0.122048\n",
      "Cost after iteration 8800: 0.121826\n",
      "Cost after iteration 8900: 0.121833\n",
      "Cost after iteration 9000: 0.121683\n",
      "Cost after iteration 9100: 0.121657\n",
      "Cost after iteration 9200: 0.121559\n",
      "Cost after iteration 9300: 0.121541\n",
      "Cost after iteration 9400: 0.121469\n",
      "Cost after iteration 9500: 0.121435\n",
      "Cost after iteration 9600: 0.121413\n",
      "Cost after iteration 9700: 0.121390\n",
      "Cost after iteration 9800: 0.121294\n",
      "Cost after iteration 9900: 0.121226\n"
     ]
    },
    {
     "data": {
      "image/png": "[encoded data removed]",
      "text/plain": [
       "<Figure size 360x288 with 1 Axes>"
      ]
     },
     "metadata": {
      "needs_background": "light"
     },
     "output_type": "display_data"
    }
   ],
   "source": [
    "parameters = L_layer_model(train_x, train_y, layers_dims, num_iterations = 10000, print_cost = True)"
   ]
  },
  {
   "cell_type": "code",
   "execution_count": 32,
   "id": "weighted-chrome",
   "metadata": {},
   "outputs": [
    {
     "name": "stdout",
     "output_type": "stream",
     "text": [
      "Accuracy:0.99 \n"
     ]
    }
   ],
   "source": [
    "pred_train = predict(train_x, train_y, parameters)"
   ]
  },
  {
   "cell_type": "code",
   "execution_count": 33,
   "id": "earned-trade",
   "metadata": {},
   "outputs": [
    {
     "name": "stdout",
     "output_type": "stream",
     "text": [
      "Accuracy:0.82 \n"
     ]
    }
   ],
   "source": [
    "pred_test = predict(test_x, test_y, parameters)\n"
   ]
  },
  {
   "cell_type": "markdown",
   "id": "coordinate-berlin",
   "metadata": {},
   "source": [
    "# initlization with He initilization"
   ]
  },
  {
   "cell_type": "code",
   "execution_count": 60,
   "id": "orange-graduate",
   "metadata": {},
   "outputs": [
    {
     "name": "stdout",
     "output_type": "stream",
     "text": [
      "Cost after iteration 0: 0.656799\n",
      "Cost after iteration 100: 0.534923\n",
      "Cost after iteration 200: 0.462916\n",
      "Cost after iteration 300: 0.418905\n",
      "Cost after iteration 400: 0.342062\n",
      "Cost after iteration 500: 0.415153\n",
      "Cost after iteration 600: 0.194941\n",
      "Cost after iteration 700: 0.227941\n",
      "Cost after iteration 800: 0.111866\n",
      "Cost after iteration 900: 0.104573\n",
      "Cost after iteration 1000: 0.079040\n",
      "Cost after iteration 1100: 0.066495\n",
      "Cost after iteration 1200: 0.052282\n",
      "Cost after iteration 1300: 0.039806\n",
      "Cost after iteration 1400: 0.030492\n",
      "Cost after iteration 1500: 0.023694\n",
      "Cost after iteration 1600: 0.019115\n",
      "Cost after iteration 1700: 0.015533\n",
      "Cost after iteration 1800: 0.012608\n",
      "Cost after iteration 1900: 0.010181\n",
      "Cost after iteration 2000: 0.008731\n",
      "Cost after iteration 2100: 0.007806\n",
      "Cost after iteration 2200: 0.007043\n",
      "Cost after iteration 2300: 0.006437\n",
      "Cost after iteration 2400: 0.005962\n",
      "Cost after iteration 2500: 0.005566\n",
      "Cost after iteration 2600: 0.005210\n",
      "Cost after iteration 2700: 0.004939\n",
      "Cost after iteration 2800: 0.004694\n",
      "Cost after iteration 2900: 0.004488\n"
     ]
    },
    {
     "data": {
      "image/png": "[encoded data removed]",
      "text/plain": [
       "<Figure size 360x288 with 1 Axes>"
      ]
     },
     "metadata": {
      "needs_background": "light"
     },
     "output_type": "display_data"
    }
   ],
   "source": [
    "parameters_he = L_layer_model_he(train_x, train_y, layers_dims, num_iterations = 3000, print_cost = True)"
   ]
  }
 ],
 "metadata": {
  "kernelspec": {
   "display_name": "Python 3",
   "language": "python",
   "name": "python3"
  },
  "language_info": {
   "codemirror_mode": {
    "name": "ipython",
    "version": 3
   },
   "file_extension": ".py",
   "mimetype": "text/x-python",
   "name": "python",
   "nbconvert_exporter": "python",
   "pygments_lexer": "ipython3",
   "version": "3.8.7"
  }
 },
 "nbformat": 4,
 "nbformat_minor": 5
}
